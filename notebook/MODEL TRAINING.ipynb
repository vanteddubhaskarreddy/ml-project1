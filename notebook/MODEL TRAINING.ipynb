{
 "cells": [
  {
   "cell_type": "markdown",
   "metadata": {},
   "source": [
    "## Model Training"
   ]
  },
  {
   "cell_type": "markdown",
   "metadata": {},
   "source": [
    "#### 1.1 Import Data and Required Packages\n",
    "##### Importing Pandas, Numpy, Matplotlib, Seaborn and Warings Library."
   ]
  },
  {
   "cell_type": "code",
   "execution_count": 18,
   "metadata": {},
   "outputs": [],
   "source": [
    "# Basic import\n",
    "\n",
    "import numpy as np\n",
    "import pandas as pd\n",
    "import matplotlib.pyplot as plt\n",
    "import seaborn as sns\n",
    "\n",
    "\n",
    "# Modelling\n",
    "from sklearn.metrics import mean_squared_error, r2_score\n",
    "from sklearn.neighbors import KNeighborsRegressor\n",
    "from sklearn.tree import DecisionTreeRegressor\n",
    "from sklearn.ensemble import RandomForestRegressor, AdaBoostRegressor\n",
    "from sklearn.svm import SVR\n",
    "from sklearn.linear_model import LinearRegression, Ridge, Lasso\n",
    "from sklearn.metrics import r2_score, mean_absolute_error, mean_squared_error\n",
    "from sklearn.model_selection import RandomizedSearchCV\n",
    "from sklearn.model_selection import train_test_split\n",
    "from catboost import CatBoostRegressor\n",
    "from xgboost import XGBRegressor\n",
    "import warnings"
   ]
  },
  {
   "cell_type": "markdown",
   "metadata": {},
   "source": [
    "#### Import the CSV Data as Pandas DataFrame"
   ]
  },
  {
   "cell_type": "code",
   "execution_count": 19,
   "metadata": {},
   "outputs": [],
   "source": [
    "df = pd.read_csv('data/stud.csv')"
   ]
  },
  {
   "cell_type": "code",
   "execution_count": 20,
   "metadata": {},
   "outputs": [
    {
     "data": {
      "text/html": [
       "<div>\n",
       "<style scoped>\n",
       "    .dataframe tbody tr th:only-of-type {\n",
       "        vertical-align: middle;\n",
       "    }\n",
       "\n",
       "    .dataframe tbody tr th {\n",
       "        vertical-align: top;\n",
       "    }\n",
       "\n",
       "    .dataframe thead th {\n",
       "        text-align: right;\n",
       "    }\n",
       "</style>\n",
       "<table border=\"1\" class=\"dataframe\">\n",
       "  <thead>\n",
       "    <tr style=\"text-align: right;\">\n",
       "      <th></th>\n",
       "      <th>gender</th>\n",
       "      <th>race_ethnicity</th>\n",
       "      <th>parental_level_of_education</th>\n",
       "      <th>lunch</th>\n",
       "      <th>test_preparation_course</th>\n",
       "      <th>math_score</th>\n",
       "      <th>reading_score</th>\n",
       "      <th>writing_score</th>\n",
       "    </tr>\n",
       "  </thead>\n",
       "  <tbody>\n",
       "    <tr>\n",
       "      <th>0</th>\n",
       "      <td>female</td>\n",
       "      <td>group B</td>\n",
       "      <td>bachelor's degree</td>\n",
       "      <td>standard</td>\n",
       "      <td>none</td>\n",
       "      <td>72</td>\n",
       "      <td>72</td>\n",
       "      <td>74</td>\n",
       "    </tr>\n",
       "    <tr>\n",
       "      <th>1</th>\n",
       "      <td>female</td>\n",
       "      <td>group C</td>\n",
       "      <td>some college</td>\n",
       "      <td>standard</td>\n",
       "      <td>completed</td>\n",
       "      <td>69</td>\n",
       "      <td>90</td>\n",
       "      <td>88</td>\n",
       "    </tr>\n",
       "    <tr>\n",
       "      <th>2</th>\n",
       "      <td>female</td>\n",
       "      <td>group B</td>\n",
       "      <td>master's degree</td>\n",
       "      <td>standard</td>\n",
       "      <td>none</td>\n",
       "      <td>90</td>\n",
       "      <td>95</td>\n",
       "      <td>93</td>\n",
       "    </tr>\n",
       "    <tr>\n",
       "      <th>3</th>\n",
       "      <td>male</td>\n",
       "      <td>group A</td>\n",
       "      <td>associate's degree</td>\n",
       "      <td>free/reduced</td>\n",
       "      <td>none</td>\n",
       "      <td>47</td>\n",
       "      <td>57</td>\n",
       "      <td>44</td>\n",
       "    </tr>\n",
       "    <tr>\n",
       "      <th>4</th>\n",
       "      <td>male</td>\n",
       "      <td>group C</td>\n",
       "      <td>some college</td>\n",
       "      <td>standard</td>\n",
       "      <td>none</td>\n",
       "      <td>76</td>\n",
       "      <td>78</td>\n",
       "      <td>75</td>\n",
       "    </tr>\n",
       "  </tbody>\n",
       "</table>\n",
       "</div>"
      ],
      "text/plain": [
       "   gender race_ethnicity parental_level_of_education         lunch  \\\n",
       "0  female        group B           bachelor's degree      standard   \n",
       "1  female        group C                some college      standard   \n",
       "2  female        group B             master's degree      standard   \n",
       "3    male        group A          associate's degree  free/reduced   \n",
       "4    male        group C                some college      standard   \n",
       "\n",
       "  test_preparation_course  math_score  reading_score  writing_score  \n",
       "0                    none          72             72             74  \n",
       "1               completed          69             90             88  \n",
       "2                    none          90             95             93  \n",
       "3                    none          47             57             44  \n",
       "4                    none          76             78             75  "
      ]
     },
     "execution_count": 20,
     "metadata": {},
     "output_type": "execute_result"
    }
   ],
   "source": [
    "df.head()"
   ]
  },
  {
   "cell_type": "markdown",
   "metadata": {},
   "source": [
    "### Preparing X and y variables"
   ]
  },
  {
   "cell_type": "code",
   "execution_count": 21,
   "metadata": {},
   "outputs": [],
   "source": [
    "X = df.drop('math_score', axis = 1)"
   ]
  },
  {
   "cell_type": "code",
   "execution_count": 22,
   "metadata": {},
   "outputs": [
    {
     "data": {
      "text/html": [
       "<div>\n",
       "<style scoped>\n",
       "    .dataframe tbody tr th:only-of-type {\n",
       "        vertical-align: middle;\n",
       "    }\n",
       "\n",
       "    .dataframe tbody tr th {\n",
       "        vertical-align: top;\n",
       "    }\n",
       "\n",
       "    .dataframe thead th {\n",
       "        text-align: right;\n",
       "    }\n",
       "</style>\n",
       "<table border=\"1\" class=\"dataframe\">\n",
       "  <thead>\n",
       "    <tr style=\"text-align: right;\">\n",
       "      <th></th>\n",
       "      <th>gender</th>\n",
       "      <th>race_ethnicity</th>\n",
       "      <th>parental_level_of_education</th>\n",
       "      <th>lunch</th>\n",
       "      <th>test_preparation_course</th>\n",
       "      <th>reading_score</th>\n",
       "      <th>writing_score</th>\n",
       "    </tr>\n",
       "  </thead>\n",
       "  <tbody>\n",
       "    <tr>\n",
       "      <th>0</th>\n",
       "      <td>female</td>\n",
       "      <td>group B</td>\n",
       "      <td>bachelor's degree</td>\n",
       "      <td>standard</td>\n",
       "      <td>none</td>\n",
       "      <td>72</td>\n",
       "      <td>74</td>\n",
       "    </tr>\n",
       "    <tr>\n",
       "      <th>1</th>\n",
       "      <td>female</td>\n",
       "      <td>group C</td>\n",
       "      <td>some college</td>\n",
       "      <td>standard</td>\n",
       "      <td>completed</td>\n",
       "      <td>90</td>\n",
       "      <td>88</td>\n",
       "    </tr>\n",
       "    <tr>\n",
       "      <th>2</th>\n",
       "      <td>female</td>\n",
       "      <td>group B</td>\n",
       "      <td>master's degree</td>\n",
       "      <td>standard</td>\n",
       "      <td>none</td>\n",
       "      <td>95</td>\n",
       "      <td>93</td>\n",
       "    </tr>\n",
       "    <tr>\n",
       "      <th>3</th>\n",
       "      <td>male</td>\n",
       "      <td>group A</td>\n",
       "      <td>associate's degree</td>\n",
       "      <td>free/reduced</td>\n",
       "      <td>none</td>\n",
       "      <td>57</td>\n",
       "      <td>44</td>\n",
       "    </tr>\n",
       "    <tr>\n",
       "      <th>4</th>\n",
       "      <td>male</td>\n",
       "      <td>group C</td>\n",
       "      <td>some college</td>\n",
       "      <td>standard</td>\n",
       "      <td>none</td>\n",
       "      <td>78</td>\n",
       "      <td>75</td>\n",
       "    </tr>\n",
       "  </tbody>\n",
       "</table>\n",
       "</div>"
      ],
      "text/plain": [
       "   gender race_ethnicity parental_level_of_education         lunch  \\\n",
       "0  female        group B           bachelor's degree      standard   \n",
       "1  female        group C                some college      standard   \n",
       "2  female        group B             master's degree      standard   \n",
       "3    male        group A          associate's degree  free/reduced   \n",
       "4    male        group C                some college      standard   \n",
       "\n",
       "  test_preparation_course  reading_score  writing_score  \n",
       "0                    none             72             74  \n",
       "1               completed             90             88  \n",
       "2                    none             95             93  \n",
       "3                    none             57             44  \n",
       "4                    none             78             75  "
      ]
     },
     "execution_count": 22,
     "metadata": {},
     "output_type": "execute_result"
    }
   ],
   "source": [
    "X.head()"
   ]
  },
  {
   "cell_type": "code",
   "execution_count": 23,
   "metadata": {},
   "outputs": [],
   "source": [
    "y = df['math_score']"
   ]
  },
  {
   "cell_type": "code",
   "execution_count": 24,
   "metadata": {},
   "outputs": [
    {
     "data": {
      "text/plain": [
       "0      72\n",
       "1      69\n",
       "2      90\n",
       "3      47\n",
       "4      76\n",
       "       ..\n",
       "995    88\n",
       "996    62\n",
       "997    59\n",
       "998    68\n",
       "999    77\n",
       "Name: math_score, Length: 1000, dtype: int64"
      ]
     },
     "execution_count": 24,
     "metadata": {},
     "output_type": "execute_result"
    }
   ],
   "source": [
    "y"
   ]
  },
  {
   "cell_type": "code",
   "execution_count": 25,
   "metadata": {},
   "outputs": [
    {
     "name": "stdout",
     "output_type": "stream",
     "text": [
      "Categories in Gender variable    :    ['female' 'male']\n",
      "Categories in race/ethnicity variable    :    ['group B' 'group C' 'group A' 'group D' 'group E']\n",
      "Categories in parental level of education variable   :    [\"bachelor's degree\" 'some college' \"master's degree\" \"associate's degree\"\n",
      " 'high school' 'some high school']\n",
      "Categories in lunch variable    :    ['standard' 'free/reduced']\n",
      "Categories in test preparation course variable   :    ['none' 'completed']\n"
     ]
    }
   ],
   "source": [
    "print('Categories in Gender variable    :   ',df['gender'].unique())\n",
    "print('Categories in race/ethnicity variable    :   ', df['race_ethnicity'].unique())\n",
    "print('Categories in parental level of education variable   :   ', df['parental_level_of_education'].unique())\n",
    "print('Categories in lunch variable    :   ', df['lunch'].unique())\n",
    "print('Categories in test preparation course variable   :   ', df['test_preparation_course'].unique())\n"
   ]
  },
  {
   "cell_type": "code",
   "execution_count": 28,
   "metadata": {},
   "outputs": [],
   "source": [
    "# Column transformer\n",
    "\n",
    "num_features = X.select_dtypes(exclude = 'object').columns\n",
    "cat_features = X.select_dtypes(include = 'object').columns\n",
    "\n",
    "from sklearn.preprocessing import OneHotEncoder, StandardScaler\n",
    "from sklearn.compose import ColumnTransformer\n",
    "\n",
    "# The OneHotEncoder will convert the categorical variables into numerical variables by creating dummy variables for each category in the variable.\n",
    "# The StandardScalar will scale the numerical variables so that they can be compared on the same scale i.e. the mean of the variable will be 0 and the standard deviation will be 1.\n",
    "# The ColumnTransformer will apply the transformations to the correct columns in the dataset which means that the OneHotEncoder will be applied to the categorical variables and the StandardScalar will be applied to the numerical variables.\n",
    "\n",
    "\n",
    "numeric_transformer = StandardScaler()\n",
    "oh_transformer = OneHotEncoder()\n",
    "\n",
    "preprocessor = ColumnTransformer(\n",
    "    [\n",
    "        ('OneHotEncoder', oh_transformer, cat_features), \n",
    "        ('StandardScalr', numeric_transformer, num_features)\n",
    "    ]\n",
    ")\n",
    "\n",
    "# Here we have defined the preprocessor which will apply the transformations to the correct columns in the dataset. The first tuple in the ColumnTransformer is the name of the transformation, the second is the transformer, and the third is the columns that the transformation will be applied to.\n",
    "\n"
   ]
  },
  {
   "cell_type": "code",
   "execution_count": 38,
   "metadata": {},
   "outputs": [],
   "source": [
    "X = preprocessor.fit_transform(X)\n",
    "# The fit_transform method will apply the transformations to the dataset and return the transformed dataset i.e. the dataset with the categorical variables converted into numerical variables and the numerical variables scaled.\n",
    "# Now X is a numpy array and we need to convert it back to a DataFrame so that we can use it in the model."
   ]
  },
  {
   "cell_type": "code",
   "execution_count": 37,
   "metadata": {},
   "outputs": [
    {
     "data": {
      "text/plain": [
       "(1000, 19)"
      ]
     },
     "execution_count": 37,
     "metadata": {},
     "output_type": "execute_result"
    }
   ],
   "source": [
    "X.shape"
   ]
  },
  {
   "cell_type": "code",
   "execution_count": 39,
   "metadata": {},
   "outputs": [
    {
     "data": {
      "text/plain": [
       "((800, 19), (200, 19), (800,), (200,))"
      ]
     },
     "execution_count": 39,
     "metadata": {},
     "output_type": "execute_result"
    }
   ],
   "source": [
    "# Splitting the data into training and testing sets\n",
    "\n",
    "from sklearn.model_selection import train_test_split\n",
    "\n",
    "X_train, X_test, y_train, y_test = train_test_split(X, y, test_size=0.2, random_state=42)\n",
    "\n",
    "X_train.shape, X_test.shape, y_train.shape, y_test.shape"
   ]
  },
  {
   "cell_type": "markdown",
   "metadata": {},
   "source": [
    "#### Creating an Evaluate Function to give all metrics after model Training"
   ]
  },
  {
   "cell_type": "code",
   "execution_count": 41,
   "metadata": {},
   "outputs": [],
   "source": [
    "def evaluate_model(true, predicted):\n",
    "    mae = mean_absolute_error(true, predicted)\n",
    "    mse = mean_squared_error(true, predicted)\n",
    "    rmse = np.sqrt(mse)\n",
    "    r2_square = r2_score(true, predicted)\n",
    "    return mae, rmse, r2_square\n",
    "# The function takes two arguments, the true values and the predicted values.\n",
    "# The evaluate_model function will calculate the mean absolute error, mean squared error, root mean squared error, and R-squared for the model.\n",
    "# These metrics will be used to evaluate the performance of the model particularly in regression problems."
   ]
  },
  {
   "cell_type": "code",
   "execution_count": 42,
   "metadata": {},
   "outputs": [
    {
     "name": "stdout",
     "output_type": "stream",
     "text": [
      "Linear Regression\n",
      "Model Performance for the training set\n",
      "--------------------\n",
      "Root Mean Squared Error:5.3243\n",
      "Mean Absolute Error:4.2671\n",
      "R2 Score:0.8743\n",
      "\n",
      "\n",
      "----------------------------------------\n",
      "Model Performance for the testing set\n",
      "--------------------\n",
      "Root Mean Squared Error:5.3960\n",
      "Mean Absolute Error:4.2158\n",
      "R2 Score:0.8803\n",
      "\n",
      "\n",
      "==================================================\n",
      "Lasso\n",
      "Model Performance for the training set\n",
      "--------------------\n",
      "Root Mean Squared Error:6.5938\n",
      "Mean Absolute Error:5.2063\n",
      "R2 Score:0.8071\n",
      "\n",
      "\n",
      "----------------------------------------\n",
      "Model Performance for the testing set\n",
      "--------------------\n",
      "Root Mean Squared Error:6.5197\n",
      "Mean Absolute Error:5.1579\n",
      "R2 Score:0.8253\n",
      "\n",
      "\n",
      "==================================================\n",
      "Ridge\n",
      "Model Performance for the training set\n",
      "--------------------\n",
      "Root Mean Squared Error:5.3233\n",
      "Mean Absolute Error:4.2650\n",
      "R2 Score:0.8743\n",
      "\n",
      "\n",
      "----------------------------------------\n",
      "Model Performance for the testing set\n",
      "--------------------\n",
      "Root Mean Squared Error:5.3904\n",
      "Mean Absolute Error:4.2111\n",
      "R2 Score:0.8806\n",
      "\n",
      "\n",
      "==================================================\n",
      "K-Neighbors Regressor\n",
      "Model Performance for the training set\n",
      "--------------------\n",
      "Root Mean Squared Error:5.7077\n",
      "Mean Absolute Error:4.5167\n",
      "R2 Score:0.8555\n",
      "\n",
      "\n",
      "----------------------------------------\n",
      "Model Performance for the testing set\n",
      "--------------------\n",
      "Root Mean Squared Error:7.2530\n",
      "Mean Absolute Error:5.6210\n",
      "R2 Score:0.7838\n",
      "\n",
      "\n",
      "==================================================\n",
      "Decision Tree\n",
      "Model Performance for the training set\n",
      "--------------------\n",
      "Root Mean Squared Error:0.2795\n",
      "Mean Absolute Error:0.0187\n",
      "R2 Score:0.9997\n",
      "\n",
      "\n",
      "----------------------------------------\n",
      "Model Performance for the testing set\n",
      "--------------------\n",
      "Root Mean Squared Error:7.7653\n",
      "Mean Absolute Error:6.1100\n",
      "R2 Score:0.7522\n",
      "\n",
      "\n",
      "==================================================\n",
      "Random Forest Regressor\n",
      "Model Performance for the training set\n",
      "--------------------\n",
      "Root Mean Squared Error:2.2944\n",
      "Mean Absolute Error:1.8444\n",
      "R2 Score:0.9766\n",
      "\n",
      "\n",
      "----------------------------------------\n",
      "Model Performance for the testing set\n",
      "--------------------\n",
      "Root Mean Squared Error:6.0338\n",
      "Mean Absolute Error:4.6860\n",
      "R2 Score:0.8504\n",
      "\n",
      "\n",
      "==================================================\n",
      "XGBRegressor\n",
      "Model Performance for the training set\n",
      "--------------------\n",
      "Root Mean Squared Error:1.0073\n",
      "Mean Absolute Error:0.6875\n",
      "R2 Score:0.9955\n",
      "\n",
      "\n",
      "----------------------------------------\n",
      "Model Performance for the testing set\n",
      "--------------------\n",
      "Root Mean Squared Error:6.4733\n",
      "Mean Absolute Error:5.0577\n",
      "R2 Score:0.8278\n",
      "\n",
      "\n",
      "==================================================\n",
      "CatBoosting Regressor\n",
      "Model Performance for the training set\n",
      "--------------------\n",
      "Root Mean Squared Error:3.0427\n",
      "Mean Absolute Error:2.4054\n",
      "R2 Score:0.9589\n",
      "\n",
      "\n",
      "----------------------------------------\n",
      "Model Performance for the testing set\n",
      "--------------------\n",
      "Root Mean Squared Error:6.0086\n",
      "Mean Absolute Error:4.6125\n",
      "R2 Score:0.8516\n",
      "\n",
      "\n",
      "==================================================\n",
      "AdaBoost Regressor\n",
      "Model Performance for the training set\n",
      "--------------------\n",
      "Root Mean Squared Error:5.8714\n",
      "Mean Absolute Error:4.8305\n",
      "R2 Score:0.8471\n",
      "\n",
      "\n",
      "----------------------------------------\n",
      "Model Performance for the testing set\n",
      "--------------------\n",
      "Root Mean Squared Error:6.0367\n",
      "Mean Absolute Error:4.7115\n",
      "R2 Score:0.8502\n",
      "\n",
      "\n",
      "==================================================\n"
     ]
    }
   ],
   "source": [
    "models = {\n",
    "    \"Linear Regression\": LinearRegression(),\n",
    "    \"Lasso\": Lasso(),\n",
    "    \"Ridge\": Ridge(),\n",
    "    \"K-Neighbors Regressor\": KNeighborsRegressor(),\n",
    "    \"Decision Tree\": DecisionTreeRegressor(),\n",
    "    \"Random Forest Regressor\": RandomForestRegressor(),\n",
    "    \"XGBRegressor\": XGBRegressor(), \n",
    "    \"CatBoosting Regressor\": CatBoostRegressor(verbose=False),\n",
    "    \"AdaBoost Regressor\": AdaBoostRegressor()\n",
    "}\n",
    "\n",
    "# The models dictionary contains the names of the models as keys and the model objects as values.\n",
    "# Linear Regression: This is like trying to draw a straight line that best fits your data points. It's used when there's a clear linear relationship between your input variables and the output. For example, predicting a person's weight based on their height.\n",
    "# Lasso Regression: This is similar to linear regression but it can reduce the impact of less important features by making their coefficients zero. This is useful when you have many input features and you want to focus on the most important ones. For example, predicting house prices based on features like size, location, number of rooms, etc.\n",
    "# Ridge Regression: This is also similar to linear regression but it reduces the impact of less important features without making their coefficients exactly zero. It's used when you want to keep all features but reduce the impact of less important ones.\n",
    "# K-Neighbors Regressor: This is like asking your neighbors for advice and averaging their opinions. It's used when your data points are clustered together and similar data points can be found near each other. For example, predicting a person's political preference based on the preferences of their neighbors.\n",
    "# Decision Tree Regressor: This is like making a flowchart to make a decision. It's used when you can make a series of yes/no questions that lead to your output. For example, predicting whether a person will buy a product based on questions like \"Is the price less than $50?\" or \"Is the product a book?\".\n",
    "# Random Forest Regressor: This is like asking a crowd of people (each person representing a decision tree) and taking the average of their opinions. It's used when a single decision tree is not accurate enough and you want to improve accuracy by averaging multiple decision trees.\n",
    "# XGBRegressor (Extreme Gradient Boosting): This is like a competition where each competitor tries to correct the mistakes of the previous competitor. It's used when you want to iteratively improve your model by focusing on the data points that are hard to predict.\n",
    "# CatBoosting Regressor: This is similar to XGBRegressor but it's especially good when you have categorical input variables. For example, predicting a person's favorite brand based on their past purchases.\n",
    "# AdaBoost Regressor: This is also similar to XGBRegressor but it gives more weight to the data points that are hard to predict. It's used when you want to focus on the difficult data points.\n",
    "\n",
    "\n",
    "model_list = []\n",
    "r2_list =[]\n",
    "# model_list = [] and r2_list = []: These lines initialize two empty lists. model_list will store the names of the models, and r2_list will store the R2 scores of the models on the test set.\n",
    "\n",
    "\n",
    "\n",
    "for i in range(len(list(models))):\n",
    "    model = list(models.values())[i]\n",
    "    model.fit(X_train, y_train) # Training the model\n",
    "\n",
    "    # for i in range(len(list(models))):: This line starts a loop that will iterate over each model in the models dictionary.\n",
    "    # model = list(models.values())[i]: This line gets the model from the models dictionary.\n",
    "    # model.fit(X_train, y_train): This line trains the model on the training data.\n",
    "    # When you call fit on a model, you're essentially showing the model the input data (X_train) and the corresponding output data (y_train). The model's job is to learn a function that can map the input to the output.\n",
    "    # For example, let's say you're trying to predict a person's weight based on their height. X_train might be a list of heights, and y_train would be the corresponding weights. When you call fit, you're showing the model these height-weight pairs and asking it to learn the relationship between height and weight.\n",
    "    # How exactly the model learns this function depends on the type of model. For example, a Linear Regression model would try to find the line that best fits the data points. A Decision Tree model would try to find a series of questions that can lead to the correct weight.\n",
    "    # Once the model has learned this function, it can use it to make predictions on new data. For example, if you show the model a new height, it can use the function it learned to predict the corresponding weight.\n",
    "\n",
    "    # Making predictions\n",
    "    y_train_pred = model.predict(X_train)\n",
    "    y_test_pred = model.predict(X_test)\n",
    "\n",
    "    # Evaluating the model and calculating the metrics\n",
    "    model_train_mae, model_train_rmse, model_train_r2 = evaluate_model(y_train, y_train_pred)\n",
    "    model_test_mae, model_test_rmse, model_test_r2 = evaluate_model(y_test, y_test_pred)\n",
    "\n",
    "    print(list(models.keys())[i])\n",
    "    model_list.append(list(models.keys())[i])\n",
    "\n",
    "    # Printing the metrics\n",
    "    print('Model Performance for the training set')\n",
    "    print('-'*20)\n",
    "    print('Root Mean Squared Error:{:.4f}'.format(model_train_rmse))\n",
    "    print('Mean Absolute Error:{:.4f}'.format(model_train_mae))\n",
    "    print('R2 Score:{:.4f}'.format(model_train_r2))\n",
    "    print('\\n')\n",
    "    print('-'*40)\n",
    "    print('Model Performance for the testing set')\n",
    "    print('-'*20)\n",
    "    print('Root Mean Squared Error:{:.4f}'.format(model_test_rmse))\n",
    "    print('Mean Absolute Error:{:.4f}'.format(model_test_mae))\n",
    "    print('R2 Score:{:.4f}'.format(model_test_r2))\n",
    "    print('\\n')\n",
    "    print('='*50)\n",
    "    r2_list.append(model_test_r2)\n"
   ]
  },
  {
   "cell_type": "code",
   "execution_count": 43,
   "metadata": {},
   "outputs": [
    {
     "data": {
      "text/html": [
       "<div>\n",
       "<style scoped>\n",
       "    .dataframe tbody tr th:only-of-type {\n",
       "        vertical-align: middle;\n",
       "    }\n",
       "\n",
       "    .dataframe tbody tr th {\n",
       "        vertical-align: top;\n",
       "    }\n",
       "\n",
       "    .dataframe thead th {\n",
       "        text-align: right;\n",
       "    }\n",
       "</style>\n",
       "<table border=\"1\" class=\"dataframe\">\n",
       "  <thead>\n",
       "    <tr style=\"text-align: right;\">\n",
       "      <th></th>\n",
       "      <th>Model</th>\n",
       "      <th>R2 Score</th>\n",
       "    </tr>\n",
       "  </thead>\n",
       "  <tbody>\n",
       "    <tr>\n",
       "      <th>2</th>\n",
       "      <td>Ridge</td>\n",
       "      <td>0.880593</td>\n",
       "    </tr>\n",
       "    <tr>\n",
       "      <th>0</th>\n",
       "      <td>Linear Regression</td>\n",
       "      <td>0.880345</td>\n",
       "    </tr>\n",
       "    <tr>\n",
       "      <th>7</th>\n",
       "      <td>CatBoosting Regressor</td>\n",
       "      <td>0.851632</td>\n",
       "    </tr>\n",
       "    <tr>\n",
       "      <th>5</th>\n",
       "      <td>Random Forest Regressor</td>\n",
       "      <td>0.850387</td>\n",
       "    </tr>\n",
       "    <tr>\n",
       "      <th>8</th>\n",
       "      <td>AdaBoost Regressor</td>\n",
       "      <td>0.850241</td>\n",
       "    </tr>\n",
       "    <tr>\n",
       "      <th>6</th>\n",
       "      <td>XGBRegressor</td>\n",
       "      <td>0.827797</td>\n",
       "    </tr>\n",
       "    <tr>\n",
       "      <th>1</th>\n",
       "      <td>Lasso</td>\n",
       "      <td>0.825320</td>\n",
       "    </tr>\n",
       "    <tr>\n",
       "      <th>3</th>\n",
       "      <td>K-Neighbors Regressor</td>\n",
       "      <td>0.783813</td>\n",
       "    </tr>\n",
       "    <tr>\n",
       "      <th>4</th>\n",
       "      <td>Decision Tree</td>\n",
       "      <td>0.752197</td>\n",
       "    </tr>\n",
       "  </tbody>\n",
       "</table>\n",
       "</div>"
      ],
      "text/plain": [
       "                     Model  R2 Score\n",
       "2                    Ridge  0.880593\n",
       "0        Linear Regression  0.880345\n",
       "7    CatBoosting Regressor  0.851632\n",
       "5  Random Forest Regressor  0.850387\n",
       "8       AdaBoost Regressor  0.850241\n",
       "6             XGBRegressor  0.827797\n",
       "1                    Lasso  0.825320\n",
       "3    K-Neighbors Regressor  0.783813\n",
       "4            Decision Tree  0.752197"
      ]
     },
     "execution_count": 43,
     "metadata": {},
     "output_type": "execute_result"
    }
   ],
   "source": [
    "pd.DataFrame({'Model':model_list, 'R2 Score':r2_list}).sort_values(by='R2 Score', ascending=False)"
   ]
  },
  {
   "cell_type": "markdown",
   "metadata": {},
   "source": [
    "## Linear Regression"
   ]
  },
  {
   "cell_type": "code",
   "execution_count": 64,
   "metadata": {},
   "outputs": [
    {
     "name": "stdout",
     "output_type": "stream",
     "text": [
      "R2 Score for Linear Regression:0.88\n"
     ]
    }
   ],
   "source": [
    "lin_model = LinearRegression(fit_intercept=True)\n",
    "# lin_model = DecisionTreeRegressor()\n",
    "lin_model = lin_model.fit(X_train, y_train)\n",
    "y_pred = lin_model.predict(X_test)\n",
    "score = r2_score(y_test, y_pred)\n",
    "print('R2 Score for Linear Regression:%.2f' %score)"
   ]
  },
  {
   "cell_type": "markdown",
   "metadata": {},
   "source": [
    "## Plot y_pred and y_test"
   ]
  },
  {
   "cell_type": "code",
   "execution_count": 65,
   "metadata": {},
   "outputs": [
    {
     "data": {
      "text/plain": [
       "Text(0, 0.5, 'Predictions')"
      ]
     },
     "execution_count": 65,
     "metadata": {},
     "output_type": "execute_result"
    },
    {
     "data": {
      "image/png": "[encoded data removed]",
      "text/plain": [
       "<Figure size 640x480 with 1 Axes>"
      ]
     },
     "metadata": {},
     "output_type": "display_data"
    }
   ],
   "source": [
    "plt.scatter(y_test, y_pred)\n",
    "plt.xlabel('True Values')\n",
    "plt.ylabel('Predictions')"
   ]
  },
  {
   "cell_type": "code",
   "execution_count": 62,
   "metadata": {},
   "outputs": [
    {
     "data": {
      "text/plain": [
       "Text(0, 0.5, 'Predictions')"
      ]
     },
     "execution_count": 62,
     "metadata": {},
     "output_type": "execute_result"
    },
    {
     "data": {
      "image/png": "[encoded data removed]",
      "text/plain": [
       "<Figure size 640x480 with 1 Axes>"
      ]
     },
     "metadata": {},
     "output_type": "display_data"
    }
   ],
   "source": [
    "plt.scatter(y_test, y_pred)\n",
    "plt.xlabel('True Values')\n",
    "plt.ylabel('Predictions')"
   ]
  },
  {
   "cell_type": "code",
   "execution_count": 77,
   "metadata": {},
   "outputs": [
    {
     "data": {
      "text/plain": [
       "<Axes: xlabel='math_score'>"
      ]
     },
     "execution_count": 77,
     "metadata": {},
     "output_type": "execute_result"
    },
    {
     "data": {
      "image/png": "[encoded data removed]",
      "text/plain": [
       "<Figure size 640x480 with 1 Axes>"
      ]
     },
     "metadata": {},
     "output_type": "display_data"
    }
   ],
   "source": [
    "sns.regplot(x = y_test,y =  y_pred, ci=None,scatter_kws={'color':'r', 's':10}, line_kws={'color':'b', 'linewidth':1})"
   ]
  },
  {
   "cell_type": "code",
   "execution_count": 63,
   "metadata": {},
   "outputs": [
    {
     "data": {
      "text/plain": [
       "<Axes: xlabel='math_score'>"
      ]
     },
     "execution_count": 63,
     "metadata": {},
     "output_type": "execute_result"
    },
    {
     "data": {
      "image/png": "[encoded data removed]",
      "text/plain": [
       "<Figure size 640x480 with 1 Axes>"
      ]
     },
     "metadata": {},
     "output_type": "display_data"
    }
   ],
   "source": [
    "sns.residplot(x = y_test, y = y_pred, color=\"g\")"
   ]
  },
  {
   "cell_type": "markdown",
   "metadata": {},
   "source": [
    "## Difference Between Actual and Predicted Values"
   ]
  },
  {
   "cell_type": "code",
   "execution_count": 79,
   "metadata": {},
   "outputs": [
    {
     "data": {
      "text/html": [
       "<div>\n",
       "<style scoped>\n",
       "    .dataframe tbody tr th:only-of-type {\n",
       "        vertical-align: middle;\n",
       "    }\n",
       "\n",
       "    .dataframe tbody tr th {\n",
       "        vertical-align: top;\n",
       "    }\n",
       "\n",
       "    .dataframe thead th {\n",
       "        text-align: right;\n",
       "    }\n",
       "</style>\n",
       "<table border=\"1\" class=\"dataframe\">\n",
       "  <thead>\n",
       "    <tr style=\"text-align: right;\">\n",
       "      <th></th>\n",
       "      <th>True Values</th>\n",
       "      <th>Predictions</th>\n",
       "      <th>Residuals</th>\n",
       "    </tr>\n",
       "  </thead>\n",
       "  <tbody>\n",
       "    <tr>\n",
       "      <th>521</th>\n",
       "      <td>91</td>\n",
       "      <td>76.507812</td>\n",
       "      <td>14.492188</td>\n",
       "    </tr>\n",
       "    <tr>\n",
       "      <th>265</th>\n",
       "      <td>59</td>\n",
       "      <td>45.117188</td>\n",
       "      <td>13.882812</td>\n",
       "    </tr>\n",
       "    <tr>\n",
       "      <th>859</th>\n",
       "      <td>87</td>\n",
       "      <td>74.085938</td>\n",
       "      <td>12.914062</td>\n",
       "    </tr>\n",
       "    <tr>\n",
       "      <th>867</th>\n",
       "      <td>61</td>\n",
       "      <td>48.773438</td>\n",
       "      <td>12.226562</td>\n",
       "    </tr>\n",
       "    <tr>\n",
       "      <th>199</th>\n",
       "      <td>78</td>\n",
       "      <td>65.781250</td>\n",
       "      <td>12.218750</td>\n",
       "    </tr>\n",
       "    <tr>\n",
       "      <th>...</th>\n",
       "      <td>...</td>\n",
       "      <td>...</td>\n",
       "      <td>...</td>\n",
       "    </tr>\n",
       "    <tr>\n",
       "      <th>816</th>\n",
       "      <td>45</td>\n",
       "      <td>55.437500</td>\n",
       "      <td>-10.437500</td>\n",
       "    </tr>\n",
       "    <tr>\n",
       "      <th>589</th>\n",
       "      <td>48</td>\n",
       "      <td>59.289062</td>\n",
       "      <td>-11.289062</td>\n",
       "    </tr>\n",
       "    <tr>\n",
       "      <th>318</th>\n",
       "      <td>63</td>\n",
       "      <td>75.195312</td>\n",
       "      <td>-12.195312</td>\n",
       "    </tr>\n",
       "    <tr>\n",
       "      <th>371</th>\n",
       "      <td>45</td>\n",
       "      <td>57.468750</td>\n",
       "      <td>-12.468750</td>\n",
       "    </tr>\n",
       "    <tr>\n",
       "      <th>158</th>\n",
       "      <td>61</td>\n",
       "      <td>76.343750</td>\n",
       "      <td>-15.343750</td>\n",
       "    </tr>\n",
       "  </tbody>\n",
       "</table>\n",
       "<p>200 rows × 3 columns</p>\n",
       "</div>"
      ],
      "text/plain": [
       "     True Values  Predictions  Residuals\n",
       "521           91    76.507812  14.492188\n",
       "265           59    45.117188  13.882812\n",
       "859           87    74.085938  12.914062\n",
       "867           61    48.773438  12.226562\n",
       "199           78    65.781250  12.218750\n",
       "..           ...          ...        ...\n",
       "816           45    55.437500 -10.437500\n",
       "589           48    59.289062 -11.289062\n",
       "318           63    75.195312 -12.195312\n",
       "371           45    57.468750 -12.468750\n",
       "158           61    76.343750 -15.343750\n",
       "\n",
       "[200 rows x 3 columns]"
      ]
     },
     "execution_count": 79,
     "metadata": {},
     "output_type": "execute_result"
    }
   ],
   "source": [
    "pred_df = pd.DataFrame({'True Values':y_test, 'Predictions':y_pred, 'Residuals':y_test-y_pred}).sort_values(by='Residuals', ascending=False)\n",
    "pred_df"
   ]
  },
  {
   "cell_type": "code",
   "execution_count": null,
   "metadata": {},
   "outputs": [],
   "source": []
  }
 ],
 "metadata": {
  "kernelspec": {
   "display_name": "Python 3",
   "language": "python",
   "name": "python3"
  },
  "language_info": {
   "codemirror_mode": {
    "name": "ipython",
    "version": 3
   },
   "file_extension": ".py",
   "mimetype": "text/x-python",
   "name": "python",
   "nbconvert_exporter": "python",
   "pygments_lexer": "ipython3",
   "version": "3.8.0"
  }
 },
 "nbformat": 4,
 "nbformat_minor": 2
}
